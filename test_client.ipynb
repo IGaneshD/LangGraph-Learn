{
 "cells": [
  {
   "cell_type": "code",
   "execution_count": 1,
   "id": "b54a9d8c",
   "metadata": {},
   "outputs": [
    {
     "data": {
      "text/plain": [
       "True"
      ]
     },
     "execution_count": 1,
     "metadata": {},
     "output_type": "execute_result"
    }
   ],
   "source": [
    "from dotenv import load_dotenv\n",
    "import os\n",
    "# load the environment variables\n",
    "load_dotenv()"
   ]
  },
  {
   "cell_type": "markdown",
   "id": "00d2e7be",
   "metadata": {},
   "source": [
    "**NOTE** Python uses .rst format for sphinix documentation"
   ]
  },
  {
   "cell_type": "markdown",
   "id": "46df8e80",
   "metadata": {},
   "source": [
    "### Testing OpenAI client "
   ]
  },
  {
   "cell_type": "code",
   "execution_count": 11,
   "id": "eb6d86a1",
   "metadata": {},
   "outputs": [
    {
     "data": {
      "text/plain": [
       "{'content': 'I am an AI digital assistant created to provide information and assist with a variety of tasks. How can I help you today?',\n",
       " 'additional_kwargs': {'refusal': None},\n",
       " 'response_metadata': {'token_usage': {'completion_tokens': 25,\n",
       "   'prompt_tokens': 11,\n",
       "   'total_tokens': 36,\n",
       "   'completion_tokens_details': {'accepted_prediction_tokens': None,\n",
       "    'audio_tokens': None,\n",
       "    'reasoning_tokens': 0,\n",
       "    'rejected_prediction_tokens': None},\n",
       "   'prompt_tokens_details': {'audio_tokens': None, 'cached_tokens': 0}},\n",
       "  'model_name': 'openai/gpt-3.5-turbo',\n",
       "  'system_fingerprint': None,\n",
       "  'id': 'gen-1754084580-Uq9BdtHaENCSN9WouCow',\n",
       "  'service_tier': None,\n",
       "  'finish_reason': 'stop',\n",
       "  'logprobs': None},\n",
       " 'type': 'ai',\n",
       " 'name': None,\n",
       " 'id': 'run--66a1f715-9a79-4dbf-93b2-51df02a5161a-0',\n",
       " 'example': False,\n",
       " 'tool_calls': [],\n",
       " 'invalid_tool_calls': [],\n",
       " 'usage_metadata': {'input_tokens': 11,\n",
       "  'output_tokens': 25,\n",
       "  'total_tokens': 36,\n",
       "  'input_token_details': {'cache_read': 0},\n",
       "  'output_token_details': {'reasoning': 0}}}"
      ]
     },
     "execution_count": 11,
     "metadata": {},
     "output_type": "execute_result"
    }
   ],
   "source": [
    "# importing openai client from langchain_openai\n",
    "from langchain_openai import ChatOpenAI\n",
    "from langchain_core.messages import HumanMessage\n",
    "\n",
    "# print(OpenAI.__doc__)\n",
    "\n",
    "# need to pass \n",
    "\n",
    "# base_url --> OPENAI_API_BASE\n",
    "# api_key  --> OPENAI_API_KEY\n",
    "\n",
    "\n",
    "\n",
    "llm = ChatOpenAI(base_url=os.getenv(\"OPENAI_API_BASE\"), api_key=os.getenv(\"OPENAI_API_KEY\"))\n",
    "llm.invoke(\"Who are you?\").__dict__"
   ]
  },
  {
   "cell_type": "code",
   "execution_count": 15,
   "id": "3cdef843",
   "metadata": {},
   "outputs": [
    {
     "data": {
      "text/plain": [
       "{'content': '```python\\n# test_add.py\\n\\nimport pytest\\nfrom my_code import add\\n\\ndef test_add_positive_numbers():\\n    assert add(2, 3) == 5\\n\\ndef test_add_negative_numbers():\\n    assert add(-2, -3) == -5\\n\\ndef test_add_mixed_numbers():\\n    assert add(2, -3) == -1\\n    assert add(-2, 3) == 1\\n\\ndef test_add_zero():\\n    assert add(0, 0) == 0\\n    assert add(0, 5) == 5\\n    assert add(-5, 0) == -5\\n```',\n",
       " 'additional_kwargs': {'refusal': None},\n",
       " 'response_metadata': {'token_usage': {'completion_tokens': 133,\n",
       "   'prompt_tokens': 60,\n",
       "   'total_tokens': 193,\n",
       "   'completion_tokens_details': {'accepted_prediction_tokens': None,\n",
       "    'audio_tokens': None,\n",
       "    'reasoning_tokens': 0,\n",
       "    'rejected_prediction_tokens': None},\n",
       "   'prompt_tokens_details': {'audio_tokens': None, 'cached_tokens': 0}},\n",
       "  'model_name': 'openai/gpt-3.5-turbo',\n",
       "  'system_fingerprint': None,\n",
       "  'id': 'gen-1754085382-GWucmekqftkBRVloz1K3',\n",
       "  'service_tier': None,\n",
       "  'finish_reason': 'stop',\n",
       "  'logprobs': None},\n",
       " 'type': 'ai',\n",
       " 'name': None,\n",
       " 'id': 'run--dbfec0e9-3332-456b-8a38-e6c7f9fc582a-0',\n",
       " 'example': False,\n",
       " 'tool_calls': [],\n",
       " 'invalid_tool_calls': [],\n",
       " 'usage_metadata': {'input_tokens': 60,\n",
       "  'output_tokens': 133,\n",
       "  'total_tokens': 193,\n",
       "  'input_token_details': {'cache_read': 0},\n",
       "  'output_token_details': {'reasoning': 0}}}"
      ]
     },
     "execution_count": 15,
     "metadata": {},
     "output_type": "execute_result"
    }
   ],
   "source": [
    "# Human Message Object\n",
    "from langchain_core.messages import SystemMessage, HumanMessage, AIMessage\n",
    "\n",
    "SystemPrompt = SystemMessage(\"You are an Expert Python Developer. \" \\\n",
    "\"Your Task is to write UnitTestCases for given Python Code using **PyTest** Framework. Do not add Extra Commentry\")\n",
    "\n",
    "code_input = \"\"\"\n",
    "\n",
    "```python\n",
    "def add(x,y):\n",
    "    return x + y\n",
    "```\n",
    "\n",
    "\"\"\"\n",
    "\n",
    "messages = [SystemPrompt, code_input]\n",
    "response = llm.invoke(messages)\n",
    "\n",
    "response.__dict__\n",
    "\n"
   ]
  },
  {
   "cell_type": "code",
   "execution_count": 17,
   "id": "d31b5424",
   "metadata": {},
   "outputs": [
    {
     "name": "stdout",
     "output_type": "stream",
     "text": [
      "```python\n",
      "# test_add.py\n",
      "\n",
      "import pytest\n",
      "from my_code import add\n",
      "\n",
      "def test_add_positive_numbers():\n",
      "    assert add(2, 3) == 5\n",
      "\n",
      "def test_add_negative_numbers():\n",
      "    assert add(-2, -3) == -5\n",
      "\n",
      "def test_add_mixed_numbers():\n",
      "    assert add(2, -3) == -1\n",
      "    assert add(-2, 3) == 1\n",
      "\n",
      "def test_add_zero():\n",
      "    assert add(0, 0) == 0\n",
      "    assert add(0, 5) == 5\n",
      "    assert add(-5, 0) == -5\n",
      "```\n"
     ]
    }
   ],
   "source": [
    "print(response.content)"
   ]
  },
  {
   "cell_type": "code",
   "execution_count": 14,
   "id": "8681ad85",
   "metadata": {},
   "outputs": [
    {
     "ename": "NameError",
     "evalue": "name 'response' is not defined",
     "output_type": "error",
     "traceback": [
      "\u001b[31m---------------------------------------------------------------------------\u001b[39m",
      "\u001b[31mNameError\u001b[39m                                 Traceback (most recent call last)",
      "\u001b[36mCell\u001b[39m\u001b[36m \u001b[39m\u001b[32mIn[14]\u001b[39m\u001b[32m, line 1\u001b[39m\n\u001b[32m----> \u001b[39m\u001b[32m1\u001b[39m \u001b[43mresponse\u001b[49m.usage_metadata\n",
      "\u001b[31mNameError\u001b[39m: name 'response' is not defined"
     ]
    }
   ],
   "source": [
    "response.usage_metadata"
   ]
  },
  {
   "cell_type": "code",
   "execution_count": null,
   "id": "bee9730d",
   "metadata": {},
   "outputs": [],
   "source": []
  }
 ],
 "metadata": {
  "kernelspec": {
   "display_name": "lc-academy-env",
   "language": "python",
   "name": "python3"
  },
  "language_info": {
   "codemirror_mode": {
    "name": "ipython",
    "version": 3
   },
   "file_extension": ".py",
   "mimetype": "text/x-python",
   "name": "python",
   "nbconvert_exporter": "python",
   "pygments_lexer": "ipython3",
   "version": "3.11.5"
  }
 },
 "nbformat": 4,
 "nbformat_minor": 5
}
