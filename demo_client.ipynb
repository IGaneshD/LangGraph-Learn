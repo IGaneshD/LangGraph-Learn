{
 "cells": [
  {
   "cell_type": "code",
   "execution_count": null,
   "id": "b54a9d8c",
   "metadata": {
    "ExecuteTime": {
     "end_time": "2025-08-02T10:04:17.488151Z",
     "start_time": "2025-08-02T10:04:17.476547Z"
    }
   },
   "outputs": [],
   "source": [
    "from dotenv import load_dotenv\n",
    "import os\n",
    "# load the environment variables\n",
    "load_dotenv()"
   ]
  },
  {
   "cell_type": "markdown",
   "id": "00d2e7be",
   "metadata": {},
   "source": [
    "**NOTE** Python uses .rst format for sphinix documentation"
   ]
  },
  {
   "cell_type": "markdown",
   "id": "46df8e80",
   "metadata": {},
   "source": [
    "### Testing OpenAI client "
   ]
  },
  {
   "cell_type": "code",
   "execution_count": null,
   "id": "eb6d86a1",
   "metadata": {},
   "outputs": [],
   "source": [
    "# importing openai client from langchain_openai\n",
    "from langchain_openai import ChatOpenAI\n",
    "from langchain_core.messages import HumanMessage\n",
    "\n",
    "# print(OpenAI.__doc__)\n",
    "\n",
    "# need to pass \n",
    "\n",
    "# base_url --> OPENAI_API_BASE\n",
    "# api_key  --> OPENAI_API_KEY\n",
    "\n",
    "\n",
    "\n",
    "llm = ChatOpenAI(base_url=os.getenv(\"OPENAI_API_BASE\"), api_key=os.getenv(\"OPENAI_API_KEY\"))\n",
    "llm.invoke(\"Who are you?\").__dict__"
   ]
  },
  {
   "cell_type": "code",
   "execution_count": null,
   "id": "3cdef843",
   "metadata": {},
   "outputs": [],
   "source": [
    "# Human Message Object\n",
    "from langchain_core.messages import SystemMessage, HumanMessage, AIMessage\n",
    "\n",
    "SystemPrompt = SystemMessage(\"You are an Expert Python Developer. \" \\\n",
    "\"Your Task is to write UnitTestCases for given Python Code using **PyTest** Framework. Do not add Extra Commentary\")\n",
    "\n",
    "code_input = \"\"\"\n",
    "\n",
    "```python\n",
    "def add(x,y):\n",
    "    return x + y\n",
    "```\n",
    "\n",
    "\"\"\"\n",
    "\n",
    "messages = [SystemPrompt, code_input]\n",
    "response = llm.invoke(messages)\n",
    "\n",
    "response.__dict__\n",
    "\n"
   ]
  },
  {
   "cell_type": "code",
   "execution_count": null,
   "id": "d31b5424",
   "metadata": {},
   "outputs": [],
   "source": [
    "print(response.content)"
   ]
  },
  {
   "cell_type": "code",
   "execution_count": null,
   "id": "8681ad85",
   "metadata": {},
   "outputs": [],
   "source": [
    "response.usage_metadata"
   ]
  },
  {
   "cell_type": "markdown",
   "id": "d6f3851d708e800c",
   "metadata": {},
   "source": [
    "### Testing Azure Client"
   ]
  },
  {
   "cell_type": "code",
   "execution_count": null,
   "id": "bee9730d",
   "metadata": {
    "ExecuteTime": {
     "end_time": "2025-08-02T10:54:48.138580Z",
     "start_time": "2025-08-02T10:54:47.706943Z"
    }
   },
   "outputs": [],
   "source": [
    "from langchain_openai import AzureChatOpenAI\n",
    "\n",
    "azure_client = AzureChatOpenAI(api_version=os.getenv(\"AZURE_OPENAI_VERSION\"), azure_deployment=os.getenv(\"AZURE_OPENAI_DEPLOYMENT\"))"
   ]
  },
  {
   "cell_type": "code",
   "execution_count": null,
   "id": "554a1fb417f21a11",
   "metadata": {
    "ExecuteTime": {
     "end_time": "2025-08-02T10:36:01.496986Z",
     "start_time": "2025-08-02T10:35:59.590438Z"
    }
   },
   "outputs": [],
   "source": [
    "response = azure_client.invoke(\"Generate a random json for user schema and only use 5-6 fields\")"
   ]
  },
  {
   "cell_type": "code",
   "execution_count": null,
   "id": "bde227eb3b90e0b5",
   "metadata": {},
   "outputs": [],
   "source": [
    "response"
   ]
  },
  {
   "cell_type": "markdown",
   "id": "c163b0cba62c89fd",
   "metadata": {},
   "source": [
    "### Structured Output"
   ]
  },
  {
   "cell_type": "code",
   "execution_count": null,
   "id": "96ad058f83664776",
   "metadata": {
    "ExecuteTime": {
     "end_time": "2025-08-02T10:59:06.717764Z",
     "start_time": "2025-08-02T10:59:06.710522Z"
    }
   },
   "outputs": [],
   "source": [
    "from pydantic import BaseModel, Field\n",
    "class ResponseFormatter(BaseModel):\n",
    "    \"\"\"Always use this tool to structure your response to the user.\"\"\"\n",
    "    answer: str = Field(description=\"The answer to the user's question\")\n",
    "    followup_question: str = Field(description=\"A followup question the user could ask\")\n",
    "\n",
    "\n",
    "\n",
    "structured_model = azure_client.bind_tools([ResponseFormatter])"
   ]
  },
  {
   "cell_type": "code",
   "execution_count": null,
   "id": "af8205f1fa2bd38b",
   "metadata": {
    "ExecuteTime": {
     "end_time": "2025-08-02T10:59:11.113049Z",
     "start_time": "2025-08-02T10:59:09.491608Z"
    }
   },
   "outputs": [],
   "source": [
    "structured_output = structured_model.invoke(\"Who is the President of India?\")"
   ]
  },
  {
   "cell_type": "code",
   "execution_count": null,
   "id": "eb9663fcf5b7733d",
   "metadata": {
    "ExecuteTime": {
     "end_time": "2025-08-02T10:59:23.955079Z",
     "start_time": "2025-08-02T10:59:23.943545Z"
    }
   },
   "outputs": [],
   "source": [
    "structured_output"
   ]
  },
  {
   "cell_type": "code",
   "execution_count": null,
   "id": "10e7ed886eed4c2f",
   "metadata": {
    "ExecuteTime": {
     "end_time": "2025-08-02T11:01:37.298104Z",
     "start_time": "2025-08-02T11:01:37.291662Z"
    }
   },
   "outputs": [],
   "source": [
    "structured_output.__dict__"
   ]
  },
  {
   "cell_type": "markdown",
   "id": "ac85f265a0cc0fe5",
   "metadata": {},
   "source": [
    "### Testing OpenAI Client by changing the Base URL to Azure"
   ]
  },
  {
   "cell_type": "code",
   "execution_count": null,
   "id": "cdaadf7a494e8190",
   "metadata": {
    "ExecuteTime": {
     "end_time": "2025-08-02T12:51:48.623636Z",
     "start_time": "2025-08-02T12:51:48.037844Z"
    }
   },
   "outputs": [],
   "source": [
    "from langchain_openai import OpenAI\n",
    "\n",
    "llm = OpenAI(base_url=os.getenv(\"AZURE_OPENAI_ENDPOINT\"), api_key=os.getenv(\"AZURE_OPENAI_API_KEY\"), model=\"gpt-4o-mini\")"
   ]
  },
  {
   "cell_type": "code",
   "execution_count": null,
   "id": "2c9d8cb360f5ffba",
   "metadata": {
    "ExecuteTime": {
     "end_time": "2025-08-02T12:51:59.711452Z",
     "start_time": "2025-08-02T12:51:58.148586Z"
    }
   },
   "outputs": [],
   "source": [
    "llm.invoke(\"Hi\")"
   ]
  },
  {
   "cell_type": "markdown",
   "id": "c95b2a75",
   "metadata": {},
   "source": [
    "### Testing Google AI"
   ]
  },
  {
   "cell_type": "code",
   "execution_count": null,
   "id": "7cc76c28",
   "metadata": {},
   "outputs": [],
   "source": [
    "# To run this code you need to install the following dependencies:\n",
    "# pip install google-genai\n",
    "\n",
    "import base64\n",
    "import os\n",
    "from google import genai\n",
    "from google.genai import types\n",
    "\n",
    "\n",
    "def generate():\n",
    "    client = genai.Client(\n",
    "        api_key=os.environ.get(\"GEMINI_API_KEY\"),\n",
    "    )\n",
    "\n",
    "    model = \"gemini-2.5-flash-lite\"\n",
    "    contents = [\n",
    "        types.Content(\n",
    "            role=\"user\",\n",
    "            parts=[\n",
    "                types.Part.from_text(text=\"\"\"INSERT_INPUT_HERE\"\"\"),\n",
    "            ],\n",
    "        ),\n",
    "    ]\n",
    "    tools = [\n",
    "        types.Tool(googleSearch=types.GoogleSearch(\n",
    "        )),\n",
    "    ]\n",
    "    generate_content_config = types.GenerateContentConfig(\n",
    "        thinking_config = types.ThinkingConfig(\n",
    "            thinking_budget=0,\n",
    "        ),\n",
    "        tools=tools,\n",
    "    )\n",
    "\n",
    "    for chunk in client.models.generate_content_stream(\n",
    "        model=model,\n",
    "        contents=contents,\n",
    "        config=generate_content_config,\n",
    "    ):\n",
    "        print(chunk.text, end=\"\")\n",
    "\n",
    "if __name__ == \"__main__\":\n",
    "    generate()"
   ]
  },
  {
   "cell_type": "markdown",
   "id": "d3646eec",
   "metadata": {},
   "source": [
    "### Testing Langchain Google GenAI"
   ]
  },
  {
   "cell_type": "code",
   "execution_count": null,
   "id": "2c29722c",
   "metadata": {},
   "outputs": [],
   "source": [
    "# Getting Environment Variables\n",
    "\n",
    "from pydantic import SecretStr\n",
    "\n",
    "import getpass\n",
    "import os\n",
    "\n",
    "if \"GOOGLE_API_KEY\" not in os.environ:\n",
    "    os.environ[\"GOOGLE_API_KEY\"] = getpass.getpass(\"Enter your Google AI API Key: \")\n",
    "\n",
    "print(os.environ[\"GOOGLE_API_KEY\"])"
   ]
  },
  {
   "cell_type": "code",
   "execution_count": null,
   "id": "ebbccf6e",
   "metadata": {},
   "outputs": [],
   "source": [
    "from langchain_google_genai import ChatGoogleGenerativeAI\n",
    "from langchain_core.messages import SystemMessage, HumanMessage, AIMessage\n",
    "from utils.utils import load_config\n",
    "\n",
    "llm = ChatGoogleGenerativeAI(model=\"gemini-2.5-flash-lite\")\n",
    "\n",
    "config = load_config()\n",
    "\n",
    "system_message = SystemMessage(content=config[\"Prompts\"][\"system message\"])\n",
    "messages = []\n",
    "messages.append(system_message)\n",
    "\n",
    "def chat_with_google(query):\n",
    "    messages.append(HumanMessage(content=query))\n",
    "\n",
    "    response = llm.invoke(messages)\n",
    "    print(response.content, flush=True, end=\"\")\n",
    "    messages.append(AIMessage(content=response.content))\n",
    "\n",
    "\n",
    "while True:\n",
    "\n",
    "    query = input(\"write your code here(Enter 'exit' to terminate the chat): \")\n",
    "\n",
    "    if query.lower() == \"exit\":\n",
    "        print(\"😀 thanks for chatting 🚀. Feel free to connect again❗\")\n",
    "        break\n",
    "    chat_with_google(query)\n"
   ]
  },
  {
   "cell_type": "code",
   "execution_count": null,
   "id": "cfb7e696",
   "metadata": {},
   "outputs": [],
   "source": [
    "from typing_extensions import TypedDict"
   ]
  },
  {
   "cell_type": "code",
   "execution_count": null,
   "id": "cd5bf3b0",
   "metadata": {},
   "outputs": [],
   "source": [
    "from typing import Required\n",
    "\n",
    "\n",
    "class User(TypedDict):\n",
    "    name: str\n",
    "    username: str\n",
    "    email: Required[str]"
   ]
  },
  {
   "cell_type": "code",
   "execution_count": null,
   "id": "c8972e30",
   "metadata": {},
   "outputs": [],
   "source": [
    "user1 : User = {\"name\":\"Ganesh\", \"username\":\"Ganesha@123\", \"password\":124}"
   ]
  },
  {
   "cell_type": "code",
   "execution_count": null,
   "id": "7a89a95b",
   "metadata": {},
   "outputs": [],
   "source": [
    "user1"
   ]
  },
  {
   "cell_type": "code",
   "execution_count": null,
   "id": "47a08c68",
   "metadata": {},
   "outputs": [],
   "source": [
    "import langgraph"
   ]
  },
  {
   "cell_type": "code",
   "execution_count": null,
   "id": "057b840f",
   "metadata": {},
   "outputs": [],
   "source": [
    "class State(TypedDict):\n",
    "    graph_state: str"
   ]
  },
  {
   "cell_type": "code",
   "execution_count": null,
   "id": "bf44885c",
   "metadata": {},
   "outputs": [],
   "source": [
    "# node 1 is conditional node \n",
    "def node_1(state):\n",
    "    print(\"---Node 1---\")\n",
    "    return {\"graph_state\": state[\"graph_state\"] + \" I am\"}\n",
    "\n",
    "\n",
    "\n",
    "def node_2(state):\n",
    "    print(\"---Node 2---\")\n",
    "    return {\"graph_state\": state[\"graph_state\"] + \" happy!\"}\n",
    "\n",
    "def node_3(state):\n",
    "    print(\"---Node 3---\")\n",
    "    return {\"graph_state\": state[\"graph_state\"] + \" sad!\"}"
   ]
  },
  {
   "cell_type": "code",
   "execution_count": null,
   "id": "316ba405",
   "metadata": {},
   "outputs": [],
   "source": [
    "import random\n",
    "from typing import Literal\n",
    "\n",
    "\n",
    "def decide_mood(state) -> Literal[\"node_2\", \"node_3\"]:\n",
    "\n",
    "    user_input = state[\"graph_state\"]\n",
    "\n",
    "    \n",
    "    # Here, Let's do a 50/50 split between node 2, 3\n",
    "    if random.random() < 0.5:\n",
    "        return \"node_2\"\n",
    "    \n",
    "    return \"node_3\""
   ]
  },
  {
   "cell_type": "code",
   "execution_count": null,
   "id": "c152be00",
   "metadata": {},
   "outputs": [],
   "source": [
    "from IPython.display import Image, display\n",
    "from langgraph.graph import StateGraph, START, END\n",
    "\n",
    "\n",
    "# build graph\n",
    "builder = StateGraph(State)\n",
    "builder.add_node(\"node_1\", node_1)\n",
    "builder.add_node(\"node_2\", node_2)\n",
    "builder.add_node(\"node_3\", node_3)\n",
    "\n",
    "\n",
    "# logic\n",
    "builder.add_edge(START, \"node_1\")\n",
    "builder.add_conditional_edges(\"node_1\", decide_mood)\n",
    "builder.add_edge(\"node_2\", END)\n",
    "builder.add_edge(\"node_3\", END)\n",
    "\n",
    "\n",
    "# Add\n",
    "graph = builder.compile()\n",
    "print(graph.__dict__)\n"
   ]
  },
  {
   "cell_type": "code",
   "execution_count": null,
   "id": "f090c089",
   "metadata": {},
   "outputs": [],
   "source": [
    "display(Image(graph.get_graph().draw_mermaid_png()))"
   ]
  },
  {
   "cell_type": "code",
   "execution_count": null,
   "id": "fac9ad68",
   "metadata": {},
   "outputs": [],
   "source": [
    "output = graph.invoke(State(graph_state=\"Hi, this is Ganesh\"))"
   ]
  },
  {
   "cell_type": "code",
   "execution_count": null,
   "id": "887fc093",
   "metadata": {},
   "outputs": [],
   "source": [
    "builder.__dict__"
   ]
  },
  {
   "cell_type": "code",
   "execution_count": null,
   "id": "b23db1f2",
   "metadata": {},
   "outputs": [],
   "source": [
    "from typing import Literal, List\n",
    "from typing_extensions import TypedDict\n",
    "from langgraph.graph import StateGraph, START, END\n",
    "from IPython.display import Image, display\n",
    "\n",
    "\n",
    "class State(TypedDict):\n",
    "    input: List[int]\n",
    "    start: int\n",
    "    end:   int\n",
    "    mid:   int\n",
    "    target: int\n",
    "\n",
    "\n",
    "state1 = State()\n",
    "\n",
    "\n",
    "def node_1(state):\n",
    "    print(\"---node_1---\")\n",
    "    inputList = list(map(int, input(\"Enter a sorted List:\").split()))\n",
    "    state[\"input\"] = inputList\n",
    "    state[\"start\"] = 0\n",
    "    state[\"end\"] = len(inputList) - 1\n",
    "    print(\"End: \", state[\"end\"])\n",
    "    state[\"mid\"] = int(0 + (state[\"end\"] - state[\"start\"]) // 2 )\n",
    "    state1 = state\n",
    "    \n",
    "    return state1\n",
    "\n",
    "\n",
    "def node_2(state):\n",
    "    state = state\n",
    "    print(\"---node_2---\")\n",
    "    target = int(input(\"Enter Target: \"))\n",
    "    state[\"target\"] = target\n",
    "    state1 = state\n",
    "    \n",
    "    return state1\n",
    "\n",
    "\n",
    "def node_3(state):\n",
    "    state = state\n",
    "    print(\"---node_3---\")\n",
    "    state1 = state\n",
    "    \n",
    "    return state1\n",
    "\n",
    "\n",
    "def node_4(state):\n",
    "    state = state\n",
    "    print(\"---node_4---\")\n",
    "    print(f\"Target {state['target']} found at index {state['mid']}\")\n",
    "    state1 = state\n",
    "    \n",
    "    return state1\n",
    "\n",
    "\n",
    "def node_5(state):\n",
    "    state\n",
    "    print(\"---node_5---\")\n",
    "    state[\"start\"] = state[\"mid\"] + 1\n",
    "    print(\"Start:\", state[\"start\"])\n",
    "    state1 = state\n",
    "    \n",
    "    return state1\n",
    "\n",
    "def node_6(state):\n",
    "    state = state\n",
    "    print(\"---node_6---\")\n",
    "    state[\"end\"] = state[\"mid\"] - 1\n",
    "    print(\"End:\", state[\"end\"])\n",
    "    state1 = state\n",
    "    \n",
    "    return state1\n",
    "\n",
    "def node_7(state):\n",
    "    \n",
    "    print(\"---node_7---\")\n",
    "    print(f\"Element {state['target']} not found in arr {state['input']}\")\n",
    "    state1 = state\n",
    "    \n",
    "    return state1\n",
    "\n",
    "\n",
    "\n",
    "def BinarySearch(state) -> Literal[\"node_4\", \"node_5\", \"node_6\", \"node_7\"]:\n",
    "\n",
    "    state[\"mid\"] = state[\"start\"] + (state[\"end\"] - state[\"start\"]) // 2\n",
    "\n",
    "\n",
    "    if state[\"start\"] > state[\"end\"]:\n",
    "        return \"node_7\"\n",
    "\n",
    "    if state[\"input\"][state[\"mid\"]] == state[\"target\"]:\n",
    "        return \"node_4\"\n",
    "    \n",
    "    if state[\"input\"][state[\"mid\"]] < state[\"target\"]:\n",
    "        # set start = mid + 1\n",
    "        return \"node_5\"\n",
    "    \n",
    "    if state[\"input\"][state[\"mid\"]] > state[\"target\"]:\n",
    "        # set end = mid - 1\n",
    "        return \"node_6\"\n",
    "    \n",
    "\n",
    "\n",
    "\n",
    "builder = StateGraph(State)\n",
    "builder.add_node(\"node_1\", node_1)\n",
    "builder.add_node(\"node_2\", node_2)\n",
    "builder.add_node(\"node_3\", node_3)\n",
    "\n",
    "\n",
    "builder.add_edge(START, \"node_1\")\n",
    "builder.add_edge(\"node_1\", \"node_2\")\n",
    "builder.add_edge(\"node_2\", \"node_3\")\n",
    "builder.add_node(\"node_4\", node_4)\n",
    "builder.add_node(\"node_5\", node_5)\n",
    "builder.add_node(\"node_6\", node_6)\n",
    "builder.add_node(\"node_7\", node_7)\n",
    "builder.add_conditional_edges(\"node_3\", BinarySearch)\n",
    "builder.add_edge(\"node_4\", END)\n",
    "builder.add_edge(\"node_5\", \"node_3\")\n",
    "builder.add_edge(\"node_6\", \"node_3\")\n",
    "builder.add_edge(\"node_7\", END)\n",
    "\n",
    "\n",
    "graph = builder.compile(debug=True)"
   ]
  },
  {
   "cell_type": "code",
   "execution_count": null,
   "id": "7f08db59",
   "metadata": {},
   "outputs": [],
   "source": [
    "display(Image(graph.get_graph().draw_mermaid_png()))"
   ]
  },
  {
   "cell_type": "code",
   "execution_count": null,
   "id": "2bcc1c9a",
   "metadata": {},
   "outputs": [],
   "source": [
    "graph.invoke(state1, stream_mode=\"updates\")"
   ]
  },
  {
   "cell_type": "markdown",
   "id": "e53557c2",
   "metadata": {},
   "source": [
    "this is Empty Cell"
   ]
  },
  {
   "cell_type": "markdown",
   "id": "3554ab60",
   "metadata": {},
   "source": []
  }
 ],
 "metadata": {
  "kernelspec": {
   "display_name": "langchain-academy",
   "language": "python",
   "name": "python3"
  },
  "language_info": {
   "codemirror_mode": {
    "name": "ipython",
    "version": 3
   },
   "file_extension": ".py",
   "mimetype": "text/x-python",
   "name": "python",
   "nbconvert_exporter": "python",
   "pygments_lexer": "ipython3",
   "version": "3.11.5"
  }
 },
 "nbformat": 4,
 "nbformat_minor": 5
}
